{
 "cells": [
  {
   "cell_type": "code",
   "execution_count": 1,
   "metadata": {
    "ExecuteTime": {
     "end_time": "2020-03-05T02:23:39.538019Z",
     "start_time": "2020-03-05T02:23:39.482339Z"
    }
   },
   "outputs": [],
   "source": [
    "%load_ext autoreload"
   ]
  },
  {
   "cell_type": "code",
   "execution_count": 2,
   "metadata": {
    "ExecuteTime": {
     "end_time": "2020-03-05T02:23:39.673937Z",
     "start_time": "2020-03-05T02:23:39.670392Z"
    }
   },
   "outputs": [],
   "source": [
    "%autoreload 2"
   ]
  },
  {
   "cell_type": "code",
   "execution_count": 3,
   "metadata": {
    "ExecuteTime": {
     "end_time": "2020-03-05T02:23:39.829907Z",
     "start_time": "2020-03-05T02:23:39.818789Z"
    }
   },
   "outputs": [],
   "source": [
    "import sys, os, time\n",
    "from pathlib import Path"
   ]
  },
  {
   "cell_type": "code",
   "execution_count": 4,
   "metadata": {
    "ExecuteTime": {
     "end_time": "2020-03-05T02:23:43.410058Z",
     "start_time": "2020-03-05T02:23:40.080039Z"
    }
   },
   "outputs": [],
   "source": [
    "import pandas as pd\n",
    "import numpy as np"
   ]
  },
  {
   "cell_type": "code",
   "execution_count": 5,
   "metadata": {
    "ExecuteTime": {
     "end_time": "2020-03-05T02:23:43.425883Z",
     "start_time": "2020-03-05T02:23:43.412473Z"
    }
   },
   "outputs": [],
   "source": [
    "sys.path.append('..')"
   ]
  },
  {
   "cell_type": "code",
   "execution_count": 6,
   "metadata": {
    "ExecuteTime": {
     "end_time": "2020-03-05T02:23:43.561923Z",
     "start_time": "2020-03-05T02:23:43.428089Z"
    }
   },
   "outputs": [],
   "source": [
    "from paper_collection import Paper, PaperCollection"
   ]
  },
  {
   "cell_type": "code",
   "execution_count": 49,
   "metadata": {
    "ExecuteTime": {
     "end_time": "2020-03-05T05:20:51.349994Z",
     "start_time": "2020-03-05T05:20:51.327140Z"
    }
   },
   "outputs": [],
   "source": [
    "df_papers = pd.read_csv('../tests/jw_papers_mag2019.tsv', sep='\\t')"
   ]
  },
  {
   "cell_type": "code",
   "execution_count": 50,
   "metadata": {
    "ExecuteTime": {
     "end_time": "2020-03-05T05:20:51.521893Z",
     "start_time": "2020-03-05T05:20:51.507390Z"
    }
   },
   "outputs": [],
   "source": [
    "df_papers.drop_duplicates(subset=['PaperId'], inplace=True)"
   ]
  },
  {
   "cell_type": "code",
   "execution_count": 51,
   "metadata": {
    "ExecuteTime": {
     "end_time": "2020-03-05T05:20:51.665976Z",
     "start_time": "2020-03-05T05:20:51.651269Z"
    }
   },
   "outputs": [
    {
     "data": {
      "text/plain": [
       "Index(['PaperId', 'AuthorId', 'AffiliationId', 'AuthorSequenceNumber',\n",
       "       'OriginalAuthor', 'OriginalAffiliation', 'Rank', 'Doi', 'DocType',\n",
       "       'PaperTitle', 'OriginalTitle', 'BookTitle', 'Year', 'Date', 'Publisher',\n",
       "       'JournalId', 'ConferenceSeriesId', 'ConferenceInstanceId', 'Volume',\n",
       "       'Issue', 'FirstPage', 'LastPage', 'ReferenceCount', 'CitationCount',\n",
       "       'EstimatedCitation', 'OriginalVenue', 'FamilyId', 'CreatedDate',\n",
       "       'node_id', 'cl', 'cl_top', 'flow'],\n",
       "      dtype='object')"
      ]
     },
     "execution_count": 51,
     "metadata": {},
     "output_type": "execute_result"
    }
   ],
   "source": [
    "df_papers.columns"
   ]
  },
  {
   "cell_type": "code",
   "execution_count": 90,
   "metadata": {
    "ExecuteTime": {
     "end_time": "2020-03-05T05:38:17.518052Z",
     "start_time": "2020-03-05T05:38:17.188285Z"
    }
   },
   "outputs": [],
   "source": [
    "coll = PaperCollection(description=\"Jevin's papers\")\n",
    "for _, prow in df_papers.iterrows():\n",
    "    p = Paper(dataset='mag',\n",
    "              dataset_version='mag-2019-11-22',\n",
    "              paper_id=prow.PaperId,\n",
    "              title=prow.PaperTitle,\n",
    "              display_title=prow.OriginalTitle,\n",
    "              doi=prow.Doi,\n",
    "              pub_date=prow.Date,\n",
    "              year=prow.Year,\n",
    "              node_rank=prow.flow)\n",
    "    coll.papers.append(p)\n",
    "    "
   ]
  },
  {
   "cell_type": "code",
   "execution_count": 91,
   "metadata": {
    "ExecuteTime": {
     "end_time": "2020-03-05T05:38:17.537892Z",
     "start_time": "2020-03-05T05:38:17.521137Z"
    }
   },
   "outputs": [
    {
     "data": {
      "text/plain": [
       "PaperCollection(Jevin's papers)"
      ]
     },
     "execution_count": 91,
     "metadata": {},
     "output_type": "execute_result"
    }
   ],
   "source": [
    "coll"
   ]
  },
  {
   "cell_type": "code",
   "execution_count": 92,
   "metadata": {
    "ExecuteTime": {
     "end_time": "2020-03-05T05:38:17.561890Z",
     "start_time": "2020-03-05T05:38:17.545886Z"
    }
   },
   "outputs": [
    {
     "data": {
      "text/plain": [
       "44"
      ]
     },
     "execution_count": 92,
     "metadata": {},
     "output_type": "execute_result"
    }
   ],
   "source": [
    "len(coll)"
   ]
  },
  {
   "cell_type": "code",
   "execution_count": 93,
   "metadata": {
    "ExecuteTime": {
     "end_time": "2020-03-05T05:38:18.001955Z",
     "start_time": "2020-03-05T05:38:17.985307Z"
    }
   },
   "outputs": [],
   "source": [
    "df_citations = pd.read_csv('../tests/jw_citations_mag2019.tsv', sep='\\t')"
   ]
  },
  {
   "cell_type": "code",
   "execution_count": 94,
   "metadata": {
    "ExecuteTime": {
     "end_time": "2020-03-05T05:38:18.241996Z",
     "start_time": "2020-03-05T05:38:18.222174Z"
    }
   },
   "outputs": [],
   "source": [
    "for _, row in df_citations.iterrows():\n",
    "    coll.citations.append((row.PaperId, row.PaperReferenceId))"
   ]
  },
  {
   "cell_type": "code",
   "execution_count": 95,
   "metadata": {
    "ExecuteTime": {
     "end_time": "2020-03-05T05:38:18.481911Z",
     "start_time": "2020-03-05T05:38:18.465414Z"
    }
   },
   "outputs": [
    {
     "data": {
      "text/plain": [
       "29"
      ]
     },
     "execution_count": 95,
     "metadata": {},
     "output_type": "execute_result"
    }
   ],
   "source": [
    "len(coll.citations)"
   ]
  },
  {
   "cell_type": "code",
   "execution_count": 96,
   "metadata": {
    "ExecuteTime": {
     "end_time": "2020-03-05T05:38:19.449917Z",
     "start_time": "2020-03-05T05:38:19.432583Z"
    }
   },
   "outputs": [],
   "source": [
    "G = coll.construct_graph()"
   ]
  },
  {
   "cell_type": "code",
   "execution_count": 97,
   "metadata": {
    "ExecuteTime": {
     "end_time": "2020-03-05T05:38:19.757896Z",
     "start_time": "2020-03-05T05:38:19.739911Z"
    }
   },
   "outputs": [
    {
     "data": {
      "text/plain": [
       "(44,)"
      ]
     },
     "execution_count": 97,
     "metadata": {},
     "output_type": "execute_result"
    }
   ],
   "source": [
    "df_papers.PaperId.drop_duplicates().shape"
   ]
  },
  {
   "cell_type": "code",
   "execution_count": 98,
   "metadata": {
    "ExecuteTime": {
     "end_time": "2020-03-05T05:38:20.729906Z",
     "start_time": "2020-03-05T05:38:20.711979Z"
    }
   },
   "outputs": [
    {
     "data": {
      "text/plain": [
       "29"
      ]
     },
     "execution_count": 98,
     "metadata": {},
     "output_type": "execute_result"
    }
   ],
   "source": [
    "G.number_of_edges()"
   ]
  },
  {
   "cell_type": "code",
   "execution_count": 99,
   "metadata": {
    "ExecuteTime": {
     "end_time": "2020-03-05T05:38:21.357872Z",
     "start_time": "2020-03-05T05:38:21.327811Z"
    }
   },
   "outputs": [
    {
     "data": {
      "text/html": [
       "<div>\n",
       "<style scoped>\n",
       "    .dataframe tbody tr th:only-of-type {\n",
       "        vertical-align: middle;\n",
       "    }\n",
       "\n",
       "    .dataframe tbody tr th {\n",
       "        vertical-align: top;\n",
       "    }\n",
       "\n",
       "    .dataframe thead th {\n",
       "        text-align: right;\n",
       "    }\n",
       "</style>\n",
       "<table border=\"1\" class=\"dataframe\">\n",
       "  <thead>\n",
       "    <tr style=\"text-align: right;\">\n",
       "      <th></th>\n",
       "      <th>PaperId</th>\n",
       "      <th>AuthorId</th>\n",
       "      <th>AffiliationId</th>\n",
       "      <th>AuthorSequenceNumber</th>\n",
       "      <th>OriginalAuthor</th>\n",
       "      <th>OriginalAffiliation</th>\n",
       "      <th>Rank</th>\n",
       "      <th>Doi</th>\n",
       "      <th>DocType</th>\n",
       "      <th>PaperTitle</th>\n",
       "      <th>...</th>\n",
       "      <th>ReferenceCount</th>\n",
       "      <th>CitationCount</th>\n",
       "      <th>EstimatedCitation</th>\n",
       "      <th>OriginalVenue</th>\n",
       "      <th>FamilyId</th>\n",
       "      <th>CreatedDate</th>\n",
       "      <th>node_id</th>\n",
       "      <th>cl</th>\n",
       "      <th>cl_top</th>\n",
       "      <th>flow</th>\n",
       "    </tr>\n",
       "  </thead>\n",
       "  <tbody>\n",
       "  </tbody>\n",
       "</table>\n",
       "<p>0 rows × 32 columns</p>\n",
       "</div>"
      ],
      "text/plain": [
       "Empty DataFrame\n",
       "Columns: [PaperId, AuthorId, AffiliationId, AuthorSequenceNumber, OriginalAuthor, OriginalAffiliation, Rank, Doi, DocType, PaperTitle, OriginalTitle, BookTitle, Year, Date, Publisher, JournalId, ConferenceSeriesId, ConferenceInstanceId, Volume, Issue, FirstPage, LastPage, ReferenceCount, CitationCount, EstimatedCitation, OriginalVenue, FamilyId, CreatedDate, node_id, cl, cl_top, flow]\n",
       "Index: []\n",
       "\n",
       "[0 rows x 32 columns]"
      ]
     },
     "execution_count": 99,
     "metadata": {},
     "output_type": "execute_result"
    }
   ],
   "source": [
    "df_papers[df_papers.PaperId.duplicated(keep=False)]"
   ]
  },
  {
   "cell_type": "code",
   "execution_count": 100,
   "metadata": {
    "ExecuteTime": {
     "end_time": "2020-03-05T05:38:23.369936Z",
     "start_time": "2020-03-05T05:38:23.351018Z"
    }
   },
   "outputs": [
    {
     "data": {
      "text/plain": [
       "44"
      ]
     },
     "execution_count": 100,
     "metadata": {},
     "output_type": "execute_result"
    }
   ],
   "source": [
    "G.number_of_nodes()"
   ]
  },
  {
   "cell_type": "code",
   "execution_count": 101,
   "metadata": {
    "ExecuteTime": {
     "end_time": "2020-03-05T05:38:25.930001Z",
     "start_time": "2020-03-05T05:38:25.911337Z"
    }
   },
   "outputs": [],
   "source": [
    "coll.write_graph('test_graph.json')"
   ]
  },
  {
   "cell_type": "code",
   "execution_count": 14,
   "metadata": {
    "ExecuteTime": {
     "end_time": "2020-03-04T17:18:20.069928Z",
     "start_time": "2020-03-04T17:18:20.052169Z"
    }
   },
   "outputs": [
    {
     "data": {
      "text/plain": [
       "'The Eigenfactor Metricstm A Network Approach To Assessing Scholarly Journals'"
      ]
     },
     "execution_count": 14,
     "metadata": {},
     "output_type": "execute_result"
    }
   ],
   "source": []
  }
 ],
 "metadata": {
  "kernelspec": {
   "display_name": "Python 3",
   "language": "python",
   "name": "python3"
  },
  "language_info": {
   "codemirror_mode": {
    "name": "ipython",
    "version": 3
   },
   "file_extension": ".py",
   "mimetype": "text/x-python",
   "name": "python",
   "nbconvert_exporter": "python",
   "pygments_lexer": "ipython3",
   "version": "3.7.1"
  }
 },
 "nbformat": 4,
 "nbformat_minor": 4
}
